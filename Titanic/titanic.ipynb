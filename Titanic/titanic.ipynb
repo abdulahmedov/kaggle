{
 "cells": [
  {
   "cell_type": "code",
   "execution_count": 152,
   "metadata": {},
   "outputs": [
    {
     "name": "stdout",
     "output_type": "stream",
     "text": [
      "Warning: Your Kaggle API key is readable by other users on this system! To fix this, you can run 'chmod 600 /Users/abdul/.kaggle/kaggle.json'\n",
      "titanic.zip: Skipping, found more recently modified local copy (use --force to force download)\n"
     ]
    }
   ],
   "source": [
    "!kaggle competitions download -c titanic"
   ]
  },
  {
   "cell_type": "code",
   "execution_count": 153,
   "metadata": {},
   "outputs": [],
   "source": [
    "from zipfile import ZipFile\n",
    "with ZipFile('titanic.zip', 'r') as zipObj:\n",
    "    zipObj.extractall()"
   ]
  },
  {
   "cell_type": "code",
   "execution_count": 275,
   "metadata": {},
   "outputs": [],
   "source": [
    "import pandas as pd\n",
    "\n",
    "train = pd.read_csv('train.csv')\n",
    "test = pd.read_csv('test.csv')\n",
    "gender_submission = pd.read_csv('gender_submission.csv')"
   ]
  },
  {
   "cell_type": "code",
   "execution_count": 276,
   "metadata": {},
   "outputs": [],
   "source": [
    "class Explorer:\n",
    "    def __init__(self):\n",
    "        pass\n",
    "    \n",
    "    @staticmethod\n",
    "    def describe(df):\n",
    "        nunique, nunique.name = df.nunique(), 'nunique'\n",
    "        dtypes, dtypes.name = df.dtypes, 'dtypes'\n",
    "        isna, isna.name = df.isna().sum(), 'isna'\n",
    "        length = pd.concat([train[col].apply(lambda x: len(str(x))) for col in train.columns],\n",
    "                           axis=1)\n",
    "        max_length, max_length.name = length.max(), 'max_length'\n",
    "        min_length, min_length.name = length.min(), 'min_length'\n",
    "        return pd.concat([nunique, dtypes, isna, min_length, max_length], axis=1, sort=True)\n",
    "    \n",
    "    def show_dist(self, df, cat, num, agg):\n",
    "        df.groupby(cat)[num].agg(agg)"
   ]
  },
  {
   "cell_type": "code",
   "execution_count": 277,
   "metadata": {},
   "outputs": [
    {
     "data": {
      "text/plain": [
       "Sex\n",
       "female    27.915709\n",
       "male      30.726645\n",
       "Name: Age, dtype: float64"
      ]
     },
     "execution_count": 277,
     "metadata": {},
     "output_type": "execute_result"
    }
   ],
   "source": [
    "train.groupby('Sex')['Age'].agg('mean')"
   ]
  },
  {
   "cell_type": "code",
   "execution_count": 278,
   "metadata": {},
   "outputs": [],
   "source": [
    "explorer = Explorer()"
   ]
  },
  {
   "cell_type": "code",
   "execution_count": 279,
   "metadata": {},
   "outputs": [
    {
     "data": {
      "text/html": [
       "<div>\n",
       "<style scoped>\n",
       "    .dataframe tbody tr th:only-of-type {\n",
       "        vertical-align: middle;\n",
       "    }\n",
       "\n",
       "    .dataframe tbody tr th {\n",
       "        vertical-align: top;\n",
       "    }\n",
       "\n",
       "    .dataframe thead th {\n",
       "        text-align: right;\n",
       "    }\n",
       "</style>\n",
       "<table border=\"1\" class=\"dataframe\">\n",
       "  <thead>\n",
       "    <tr style=\"text-align: right;\">\n",
       "      <th></th>\n",
       "      <th>nunique</th>\n",
       "      <th>dtypes</th>\n",
       "      <th>isna</th>\n",
       "      <th>min_length</th>\n",
       "      <th>max_length</th>\n",
       "    </tr>\n",
       "  </thead>\n",
       "  <tbody>\n",
       "    <tr>\n",
       "      <td>Age</td>\n",
       "      <td>88</td>\n",
       "      <td>float64</td>\n",
       "      <td>177</td>\n",
       "      <td>3</td>\n",
       "      <td>4</td>\n",
       "    </tr>\n",
       "    <tr>\n",
       "      <td>Cabin</td>\n",
       "      <td>147</td>\n",
       "      <td>object</td>\n",
       "      <td>687</td>\n",
       "      <td>1</td>\n",
       "      <td>15</td>\n",
       "    </tr>\n",
       "    <tr>\n",
       "      <td>Embarked</td>\n",
       "      <td>3</td>\n",
       "      <td>object</td>\n",
       "      <td>2</td>\n",
       "      <td>1</td>\n",
       "      <td>3</td>\n",
       "    </tr>\n",
       "    <tr>\n",
       "      <td>Fare</td>\n",
       "      <td>248</td>\n",
       "      <td>float64</td>\n",
       "      <td>0</td>\n",
       "      <td>3</td>\n",
       "      <td>8</td>\n",
       "    </tr>\n",
       "    <tr>\n",
       "      <td>Name</td>\n",
       "      <td>891</td>\n",
       "      <td>object</td>\n",
       "      <td>0</td>\n",
       "      <td>12</td>\n",
       "      <td>82</td>\n",
       "    </tr>\n",
       "    <tr>\n",
       "      <td>Parch</td>\n",
       "      <td>7</td>\n",
       "      <td>int64</td>\n",
       "      <td>0</td>\n",
       "      <td>1</td>\n",
       "      <td>1</td>\n",
       "    </tr>\n",
       "    <tr>\n",
       "      <td>PassengerId</td>\n",
       "      <td>891</td>\n",
       "      <td>int64</td>\n",
       "      <td>0</td>\n",
       "      <td>1</td>\n",
       "      <td>3</td>\n",
       "    </tr>\n",
       "    <tr>\n",
       "      <td>Pclass</td>\n",
       "      <td>3</td>\n",
       "      <td>int64</td>\n",
       "      <td>0</td>\n",
       "      <td>1</td>\n",
       "      <td>1</td>\n",
       "    </tr>\n",
       "    <tr>\n",
       "      <td>Sex</td>\n",
       "      <td>2</td>\n",
       "      <td>object</td>\n",
       "      <td>0</td>\n",
       "      <td>4</td>\n",
       "      <td>6</td>\n",
       "    </tr>\n",
       "    <tr>\n",
       "      <td>SibSp</td>\n",
       "      <td>7</td>\n",
       "      <td>int64</td>\n",
       "      <td>0</td>\n",
       "      <td>1</td>\n",
       "      <td>1</td>\n",
       "    </tr>\n",
       "    <tr>\n",
       "      <td>Survived</td>\n",
       "      <td>2</td>\n",
       "      <td>int64</td>\n",
       "      <td>0</td>\n",
       "      <td>1</td>\n",
       "      <td>1</td>\n",
       "    </tr>\n",
       "    <tr>\n",
       "      <td>Ticket</td>\n",
       "      <td>681</td>\n",
       "      <td>object</td>\n",
       "      <td>0</td>\n",
       "      <td>3</td>\n",
       "      <td>18</td>\n",
       "    </tr>\n",
       "  </tbody>\n",
       "</table>\n",
       "</div>"
      ],
      "text/plain": [
       "             nunique   dtypes  isna  min_length  max_length\n",
       "Age               88  float64   177           3           4\n",
       "Cabin            147   object   687           1          15\n",
       "Embarked           3   object     2           1           3\n",
       "Fare             248  float64     0           3           8\n",
       "Name             891   object     0          12          82\n",
       "Parch              7    int64     0           1           1\n",
       "PassengerId      891    int64     0           1           3\n",
       "Pclass             3    int64     0           1           1\n",
       "Sex                2   object     0           4           6\n",
       "SibSp              7    int64     0           1           1\n",
       "Survived           2    int64     0           1           1\n",
       "Ticket           681   object     0           3          18"
      ]
     },
     "execution_count": 279,
     "metadata": {},
     "output_type": "execute_result"
    }
   ],
   "source": [
    "explorer.describe(train)"
   ]
  },
  {
   "cell_type": "code",
   "execution_count": 280,
   "metadata": {},
   "outputs": [],
   "source": [
    "from sklearn.ensemble import RandomForestClassifier\n",
    "from sklearn.model_selection import cross_val_score"
   ]
  },
  {
   "cell_type": "code",
   "execution_count": 281,
   "metadata": {},
   "outputs": [],
   "source": [
    "from sklearn.base import BaseEstimator, TransformerMixin\n",
    "from sklearn.impute import SimpleImputer, MissingIndicator\n",
    "from sklearn.preprocessing import OneHotEncoder\n",
    "from copy import deepcopy\n",
    "from pdb import set_trace as breakpoint\n",
    "\n",
    "class Transformer(BaseEstimator, TransformerMixin):\n",
    "    def __init__(self, impute_strategy='mean', cat_features=None, num_features=None):\n",
    "        self.imputer = SimpleImputer(strategy=impute_strategy)\n",
    "        self.missing_indicator = MissingIndicator()\n",
    "        self.cat_features = cat_features\n",
    "        self.num_features = num_features\n",
    "\n",
    "\n",
    "    def fit_transform(self, X_train):\n",
    "        X_train = deepcopy(X_train)\n",
    "        X_train['Name'] = X_train['Name'].apply(lambda name: name.split(',')[1].split('.')[0].strip())\n",
    "#         grp = X_train.groupby(['Sex', 'Pclass'])\n",
    "#         grp['Age'].apply(lambda x: x.fillna(x.median()))\n",
    "        X_train['Fare_Category'] = pd.cut(X_train['Fare'],\n",
    "                                          bins=[0,7.90,14.45,31.28,120],\n",
    "                                          labels=['Low','Mid', 'High_Mid','High'])\n",
    "        breakpoint()\n",
    "        self.detect_features(X_train)\n",
    "        X_train[self.num_features] = self.imputer.fit_transform(X_train[self.num_features]).copy()\n",
    "        X_train = pd.get_dummies(X_train, columns=self.cat_features)\n",
    "        self.columns = X_train.columns\n",
    "        return X_train\n",
    "\n",
    "\n",
    "    def transform(self, X_test):\n",
    "        X_test = deepcopy(X_test)\n",
    "        X_test['Name'] = X_test['Name'].apply(lambda name: name.split(',')[1].split('.')[0].strip())\n",
    "        X_test['Fare_Category'] = pd.cut(X_test['Fare'],\n",
    "                                         bins=[0,7.90,14.45,31.28,120],\n",
    "                                         labels=['Low','Mid', 'High_Mid','High'])\n",
    "        X_test[self.num_features] = self.imputer.transform(X_test[self.num_features])\n",
    "        X_test = pd.get_dummies(X_test, columns=self.cat_features)\n",
    "        X_test = self.align(X_test)\n",
    "        return X_test\n",
    "\n",
    "\n",
    "    def align(self, X_test):\n",
    "        X_test = deepcopy(X_test)\n",
    "        cols_to_drop = list(set(X_test.columns) - set(self.columns))\n",
    "        cols_to_add = list(set(self.columns) - set(X_test.columns))\n",
    "        X_test = X_test.drop(cols_to_drop, axis=1)\n",
    "        X_test = X_test.assign(**dict(zip(cols_to_add, [0] * len(cols_to_add))))\n",
    "        X_test = X_test[self.columns]\n",
    "        return X_test\n",
    "\n",
    "\n",
    "    def detect_features(self, X_train):\n",
    "        self.num_features = [col for col in X_train.columns if X_train[col].dtype in (np.int64, np.float64)]\n",
    "        self.cat_features = [col for col in X_train.columns if col not in self.num_features]\n"
   ]
  },
  {
   "cell_type": "code",
   "execution_count": 283,
   "metadata": {},
   "outputs": [],
   "source": [
    "# transformer.imputer"
   ]
  },
  {
   "cell_type": "code",
   "execution_count": 284,
   "metadata": {},
   "outputs": [],
   "source": [
    "# transformer.imputer.fit_transform(train[transformer.num_features])"
   ]
  },
  {
   "cell_type": "code",
   "execution_count": 285,
   "metadata": {},
   "outputs": [
    {
     "name": "stdout",
     "output_type": "stream",
     "text": [
      "> <ipython-input-281-2e3f4288099d>(24)fit_transform()\n",
      "-> self.detect_features(X_train)\n",
      "(Pdb) c\n"
     ]
    }
   ],
   "source": [
    "y = train['Survived']\n",
    "X = train.drop('Survived', axis=1)\n",
    "X = X.set_index('PassengerId')\n",
    "X_test = test.set_index('PassengerId')\n",
    "\n",
    "from sklearn.model_selection import train_test_split\n",
    "\n",
    "X_train, X_val, y_train, y_val = train_test_split(X, y)\n",
    "\n",
    "transformer = Transformer()\n",
    "X_train = transformer.fit_transform(X_train)\n",
    "# X_val = transformer.transform(X_val)\n",
    "X_test = transformer.transform(X_test)\n",
    "X = transformer.transform(X)"
   ]
  },
  {
   "cell_type": "code",
   "execution_count": 286,
   "metadata": {},
   "outputs": [
    {
     "data": {
      "text/plain": [
       "[(891, 672), (668, 672), (418, 672)]"
      ]
     },
     "execution_count": 286,
     "metadata": {},
     "output_type": "execute_result"
    }
   ],
   "source": [
    "list(map(lambda x: x.shape, [X, X_train, X_test]))"
   ]
  },
  {
   "cell_type": "code",
   "execution_count": 215,
   "metadata": {},
   "outputs": [],
   "source": [
    "rf = RandomForestClassifier()"
   ]
  },
  {
   "cell_type": "code",
   "execution_count": 164,
   "metadata": {},
   "outputs": [
    {
     "name": "stderr",
     "output_type": "stream",
     "text": [
      "/Users/abdul/opt/anaconda3/lib/python3.7/site-packages/sklearn/ensemble/forest.py:245: FutureWarning: The default value of n_estimators will change from 10 in version 0.20 to 100 in 0.22.\n",
      "  \"10 in version 0.20 to 100 in 0.22.\", FutureWarning)\n"
     ]
    },
    {
     "data": {
      "text/plain": [
       "RandomForestClassifier(bootstrap=True, class_weight=None, criterion='gini',\n",
       "                       max_depth=None, max_features='auto', max_leaf_nodes=None,\n",
       "                       min_impurity_decrease=0.0, min_impurity_split=None,\n",
       "                       min_samples_leaf=1, min_samples_split=2,\n",
       "                       min_weight_fraction_leaf=0.0, n_estimators=10,\n",
       "                       n_jobs=None, oob_score=False, random_state=None,\n",
       "                       verbose=0, warm_start=False)"
      ]
     },
     "execution_count": 164,
     "metadata": {},
     "output_type": "execute_result"
    }
   ],
   "source": [
    "rf.fit(X, y)"
   ]
  },
  {
   "cell_type": "code",
   "execution_count": 165,
   "metadata": {},
   "outputs": [],
   "source": [
    "from xgboost import XGBClassifier"
   ]
  },
  {
   "cell_type": "code",
   "execution_count": 287,
   "metadata": {},
   "outputs": [],
   "source": [
    "xgb = XGBClassifier()"
   ]
  },
  {
   "cell_type": "code",
   "execution_count": 288,
   "metadata": {},
   "outputs": [
    {
     "name": "stderr",
     "output_type": "stream",
     "text": [
      "/Users/abdul/opt/anaconda3/lib/python3.7/site-packages/sklearn/model_selection/_split.py:1978: FutureWarning: The default value of cv will change from 3 to 5 in version 0.22. Specify it explicitly to silence this warning.\n",
      "  warnings.warn(CV_WARNING, FutureWarning)\n"
     ]
    },
    {
     "data": {
      "text/plain": [
       "array([0.80808081, 0.83501684, 0.84175084])"
      ]
     },
     "execution_count": 288,
     "metadata": {},
     "output_type": "execute_result"
    }
   ],
   "source": [
    "cross_val_score(xgb, X, y)"
   ]
  },
  {
   "cell_type": "code",
   "execution_count": 289,
   "metadata": {},
   "outputs": [
    {
     "data": {
      "text/plain": [
       "XGBClassifier(base_score=0.5, booster='gbtree', colsample_bylevel=1,\n",
       "              colsample_bynode=1, colsample_bytree=1, gamma=0,\n",
       "              learning_rate=0.1, max_delta_step=0, max_depth=3,\n",
       "              min_child_weight=1, missing=None, n_estimators=100, n_jobs=1,\n",
       "              nthread=None, objective='binary:logistic', random_state=0,\n",
       "              reg_alpha=0, reg_lambda=1, scale_pos_weight=1, seed=None,\n",
       "              silent=None, subsample=1, verbosity=1)"
      ]
     },
     "execution_count": 289,
     "metadata": {},
     "output_type": "execute_result"
    }
   ],
   "source": [
    "xgb.fit(X, y)"
   ]
  },
  {
   "cell_type": "code",
   "execution_count": 306,
   "metadata": {},
   "outputs": [],
   "source": [
    "from sklearn.model_selection import GridSearchCV, KFold, StratifiedKFold"
   ]
  },
  {
   "cell_type": "code",
   "execution_count": 308,
   "metadata": {},
   "outputs": [],
   "source": [
    "random_state = 42\n",
    "n_splits = 5\n",
    "\n",
    "kfold = StratifiedKFold(n_splits=n_splits, shuffle=True, random_state=random_state)\n",
    "\n",
    "param_grid = {\n",
    "    'min_child_weight': [1, 5, 10],\n",
    "    'gamma': [0.5, 1, 1.5, 2, 5],\n",
    "    'subsample': [0.6, 0.8, 1.0],\n",
    "    'colsample_bytree': [0.6, 0.8, 1.0],\n",
    "    'max_depth': [3, 4, 5],\n",
    "    'n_estimators': [50, 100, 200, 400]\n",
    "}\n",
    "\n",
    "gs = GridSearchCV(estimator=xgb, param_grid=param_grid, cv=kfold, scoring=\"neg_log_loss\",\n",
    "                  verbose=True, return_train_score=True, n_jobs=-1)"
   ]
  },
  {
   "cell_type": "code",
   "execution_count": null,
   "metadata": {},
   "outputs": [
    {
     "name": "stdout",
     "output_type": "stream",
     "text": [
      "Fitting 5 folds for each of 1620 candidates, totalling 8100 fits\n"
     ]
    },
    {
     "name": "stderr",
     "output_type": "stream",
     "text": [
      "[Parallel(n_jobs=-1)]: Using backend LokyBackend with 4 concurrent workers.\n",
      "[Parallel(n_jobs=-1)]: Done  42 tasks      | elapsed:   45.0s\n",
      "[Parallel(n_jobs=-1)]: Done 192 tasks      | elapsed:  4.3min\n",
      "[Parallel(n_jobs=-1)]: Done 442 tasks      | elapsed: 10.6min\n"
     ]
    }
   ],
   "source": [
    "gs.fit(X, y)"
   ]
  },
  {
   "cell_type": "code",
   "execution_count": null,
   "metadata": {},
   "outputs": [],
   "source": []
  },
  {
   "cell_type": "code",
   "execution_count": null,
   "metadata": {},
   "outputs": [],
   "source": []
  },
  {
   "cell_type": "code",
   "execution_count": null,
   "metadata": {},
   "outputs": [],
   "source": []
  },
  {
   "cell_type": "code",
   "execution_count": 290,
   "metadata": {},
   "outputs": [],
   "source": [
    "gender_submission['Survived'] = xgb.predict(X_test)\n",
    "gender_submission.to_csv('submission.csv', index=False)"
   ]
  },
  {
   "cell_type": "code",
   "execution_count": 291,
   "metadata": {},
   "outputs": [
    {
     "name": "stdout",
     "output_type": "stream",
     "text": [
      "Warning: Your Kaggle API key is readable by other users on this system! To fix this, you can run 'chmod 600 /Users/abdul/.kaggle/kaggle.json'\n",
      "100%|████████████████████████████████████████| 2.77k/2.77k [00:04<00:00, 581B/s]\n",
      "Successfully submitted to Titanic: Machine Learning from Disaster"
     ]
    }
   ],
   "source": [
    "!kaggle competitions submit -c titanic -f submission.csv -m \"Message\""
   ]
  },
  {
   "cell_type": "code",
   "execution_count": null,
   "metadata": {},
   "outputs": [],
   "source": []
  },
  {
   "cell_type": "code",
   "execution_count": null,
   "metadata": {},
   "outputs": [],
   "source": []
  },
  {
   "cell_type": "code",
   "execution_count": null,
   "metadata": {},
   "outputs": [],
   "source": []
  },
  {
   "cell_type": "code",
   "execution_count": null,
   "metadata": {},
   "outputs": [],
   "source": []
  },
  {
   "cell_type": "code",
   "execution_count": null,
   "metadata": {},
   "outputs": [],
   "source": []
  }
 ],
 "metadata": {
  "kernelspec": {
   "display_name": "Python 3",
   "language": "python",
   "name": "python3"
  },
  "language_info": {
   "codemirror_mode": {
    "name": "ipython",
    "version": 3
   },
   "file_extension": ".py",
   "mimetype": "text/x-python",
   "name": "python",
   "nbconvert_exporter": "python",
   "pygments_lexer": "ipython3",
   "version": "3.7.4"
  }
 },
 "nbformat": 4,
 "nbformat_minor": 2
}
