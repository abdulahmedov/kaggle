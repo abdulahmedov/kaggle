{
 "cells": [
  {
   "cell_type": "code",
   "execution_count": 3,
   "metadata": {},
   "outputs": [
    {
     "name": "stdout",
     "output_type": "stream",
     "text": [
      "Warning: Your Kaggle API key is readable by other users on this system! To fix this, you can run 'chmod 600 /Users/abdul/.kaggle/kaggle.json'\n",
      "Downloading titanic.zip to /Users/abdul/Documents/jupyter/Titanic\n",
      "100%|███████████████████████████████████████| 34.1k/34.1k [00:00<00:00, 347kB/s]\n",
      "100%|███████████████████████████████████████| 34.1k/34.1k [00:00<00:00, 345kB/s]\n"
     ]
    }
   ],
   "source": [
    "!kaggle competitions download -c titanic"
   ]
  },
  {
   "cell_type": "code",
   "execution_count": 4,
   "metadata": {},
   "outputs": [],
   "source": [
    "from zipfile import ZipFile\n",
    "with ZipFile('titanic.zip', 'r') as zipObj:\n",
    "    zipObj.extractall()"
   ]
  },
  {
   "cell_type": "code",
   "execution_count": 479,
   "metadata": {},
   "outputs": [],
   "source": [
    "import pandas as pd\n",
    "\n",
    "train = pd.read_csv('train.csv')\n",
    "test = pd.read_csv('test.csv')\n",
    "gender_submission = pd.read_csv('gender_submission.csv')"
   ]
  },
  {
   "cell_type": "code",
   "execution_count": 480,
   "metadata": {},
   "outputs": [],
   "source": [
    "# target = train['Survived']\n",
    "# train = train.drop('Survived', axis=1)"
   ]
  },
  {
   "cell_type": "code",
   "execution_count": 482,
   "metadata": {},
   "outputs": [
    {
     "data": {
      "text/plain": [
       "int64      5\n",
       "object     5\n",
       "float64    2\n",
       "dtype: int64"
      ]
     },
     "execution_count": 482,
     "metadata": {},
     "output_type": "execute_result"
    }
   ],
   "source": [
    "train.dtypes.value_counts()"
   ]
  },
  {
   "cell_type": "code",
   "execution_count": 483,
   "metadata": {},
   "outputs": [],
   "source": [
    "from sklearn.ensemble import RandomForestClassifier\n",
    "from sklearn.model_selection import cross_val_score"
   ]
  },
  {
   "cell_type": "code",
   "execution_count": 490,
   "metadata": {},
   "outputs": [],
   "source": [
    "from sklearn.base import BaseEstimator, TransformerMixin\n",
    "from sklearn.impute import SimpleImputer, MissingIndicator\n",
    "from sklearn.preprocessing import OneHotEncoder\n",
    "from copy import deepcopy\n",
    "from pdb import set_trace as breakpoint\n",
    "\n",
    "class Transformer(BaseEstimator, TransformerMixin):\n",
    "    def __init__(self, impute_strategy='mean', cat_features=None, num_features=None):\n",
    "        self.imputer = SimpleImputer(strategy=impute_strategy)\n",
    "        self.missing_indicator = MissingIndicator()\n",
    "        self.cat_features = cat_features\n",
    "        self.num_features = num_features\n",
    "\n",
    "\n",
    "    def fit_transform(self, X_train):\n",
    "        X_train = deepcopy(X_train)\n",
    "        X_train = X_train.Name.apply(lambda name: name.split(',')[1].split('.')[0].strip())\n",
    "#         X_train = X_train.drop('Name', axis=1)\n",
    "        missing = missing_indicator.fit_transform(X_train)\n",
    "        self.detect_features(X_train)\n",
    "        X_train[self.num_features] = self.imputer.fit_transform(X_train[self.num_features]).copy()\n",
    "        X_train = self.one_hot_encode(X_train)\n",
    "        self.columns = X_train.columns\n",
    "        return X_train\n",
    "\n",
    "\n",
    "    def transform(self, X_test):\n",
    "        X_test = deepcopy(X_test)\n",
    "        X_test = X_test.Name.apply(lambda name: name.split(',')[1].split('.')[0].strip())\n",
    "#         X_test = X_test.drop('Name', axis=1)\n",
    "        X_test[self.num_features] = self.imputer.transform(X_test[self.num_features])\n",
    "        X_test = self.one_hot_encode(X_test)\n",
    "        X_test = self.align(X_test)\n",
    "        return X_test\n",
    "    \n",
    "    \n",
    "    def one_hot_encode(self, X):\n",
    "        X = deepcopy(X)\n",
    "        X = pd.get_dummies(X, columns=self.cat_features)\n",
    "        return X\n",
    "\n",
    "    \n",
    "    def align(self, X_test):\n",
    "        X_test = deepcopy(X_test)\n",
    "        cols_to_drop = list(set(X_test.columns) - set(self.columns))\n",
    "        cols_to_add = list(set(self.columns) - set(X_test.columns))\n",
    "        X_test = X_test.drop(cols_to_drop, axis=1)\n",
    "        X_test = X_test.assign(**dict(zip(cols_to_add, [0] * len(cols_to_add))))\n",
    "        X_test = X_test[self.columns]\n",
    "        return X_test\n",
    "\n",
    "\n",
    "    def detect_features(self, X_train):\n",
    "        self.cat_features = [col for col in X_train.columns if X_train[col].dtype=='object']\n",
    "        self.num_features = [col for col in X_train.columns if col not in self.cat_features]"
   ]
  },
  {
   "cell_type": "code",
   "execution_count": 491,
   "metadata": {},
   "outputs": [
    {
     "ename": "AttributeError",
     "evalue": "'Transformer' object has no attribute 'columns'",
     "output_type": "error",
     "traceback": [
      "\u001b[0;31m---------------------------------------------------------------------------\u001b[0m",
      "\u001b[0;31mAttributeError\u001b[0m                            Traceback (most recent call last)",
      "\u001b[0;32m<ipython-input-491-662c2690c54d>\u001b[0m in \u001b[0;36m<module>\u001b[0;34m\u001b[0m\n\u001b[1;32m      1\u001b[0m \u001b[0mcolumns\u001b[0m \u001b[0;34m=\u001b[0m \u001b[0;34m{\u001b[0m\u001b[0;34m}\u001b[0m\u001b[0;34m\u001b[0m\u001b[0;34m\u001b[0m\u001b[0m\n\u001b[0;32m----> 2\u001b[0;31m \u001b[0;32mfor\u001b[0m \u001b[0mcol\u001b[0m \u001b[0;32min\u001b[0m \u001b[0mtransformer\u001b[0m\u001b[0;34m.\u001b[0m\u001b[0mcolumns\u001b[0m\u001b[0;34m:\u001b[0m\u001b[0;34m\u001b[0m\u001b[0;34m\u001b[0m\u001b[0m\n\u001b[0m\u001b[1;32m      3\u001b[0m     \u001b[0mcolumns\u001b[0m\u001b[0;34m[\u001b[0m\u001b[0mcol\u001b[0m\u001b[0;34m]\u001b[0m \u001b[0;34m=\u001b[0m \u001b[0;36m0\u001b[0m\u001b[0;34m\u001b[0m\u001b[0;34m\u001b[0m\u001b[0m\n\u001b[1;32m      4\u001b[0m \u001b[0;34m\u001b[0m\u001b[0m\n\u001b[1;32m      5\u001b[0m \u001b[0;32mfor\u001b[0m \u001b[0mcol\u001b[0m \u001b[0;32min\u001b[0m \u001b[0mtransformer\u001b[0m\u001b[0;34m.\u001b[0m\u001b[0mcolumns\u001b[0m\u001b[0;34m:\u001b[0m\u001b[0;34m\u001b[0m\u001b[0;34m\u001b[0m\u001b[0m\n",
      "\u001b[0;31mAttributeError\u001b[0m: 'Transformer' object has no attribute 'columns'"
     ]
    }
   ],
   "source": [
    "columns = {}\n",
    "for col in transformer.columns:\n",
    "    columns[col] = 0\n",
    "    \n",
    "for col in transformer.columns:\n",
    "    columns[col] += 1"
   ]
  },
  {
   "cell_type": "code",
   "execution_count": 492,
   "metadata": {
    "scrolled": true
   },
   "outputs": [
    {
     "data": {
      "text/plain": [
       "[]"
      ]
     },
     "execution_count": 492,
     "metadata": {},
     "output_type": "execute_result"
    }
   ],
   "source": [
    "[col for col in columns.keys() if columns[col] > 1]"
   ]
  },
  {
   "cell_type": "code",
   "execution_count": 493,
   "metadata": {},
   "outputs": [
    {
     "ename": "ValueError",
     "evalue": "Expected 2D array, got 1D array instead:\narray=['Mr' 'Mrs' 'Miss' 'Mrs' 'Mr' 'Mr' 'Mr' 'Master' 'Mrs' 'Mrs' 'Miss' 'Miss'\n 'Mr' 'Mr' 'Miss' 'Mrs' 'Master' 'Mr' 'Mrs' 'Mrs' 'Mr' 'Mr' 'Miss' 'Mr'\n 'Miss' 'Mrs' 'Mr' 'Mr' 'Miss' 'Mr' 'Don' 'Mrs' 'Miss' 'Mr' 'Mr' 'Mr' 'Mr'\n 'Mr' 'Miss' 'Miss' 'Mrs' 'Mrs' 'Mr' 'Miss' 'Miss' 'Mr' 'Mr' 'Miss' 'Mr'\n 'Mrs' 'Master' 'Mr' 'Mrs' 'Mrs' 'Mr' 'Mr' 'Miss' 'Mr' 'Miss' 'Master'\n 'Mr' 'Miss' 'Mr' 'Master' 'Mr' 'Master' 'Mrs' 'Mr' 'Miss' 'Mr' 'Mr'\n 'Miss' 'Mr' 'Mr' 'Mr' 'Mr' 'Mr' 'Mr' 'Master' 'Miss' 'Mr' 'Mr' 'Miss'\n 'Mr' 'Miss' 'Mrs' 'Mr' 'Mr' 'Miss' 'Mr' 'Mr' 'Mr' 'Mr' 'Mr' 'Mr' 'Mr'\n 'Mr' 'Mr' 'Mrs' 'Mr' 'Miss' 'Mr' 'Mr' 'Mr' 'Mr' 'Mr' 'Miss' 'Mr' 'Mr'\n 'Miss' 'Mr' 'Miss' 'Mr' 'Miss' 'Miss' 'Mr' 'Mr' 'Mr' 'Mr' 'Miss' 'Mr'\n 'Mr' 'Mr' 'Miss' 'Mr' 'Master' 'Mr' 'Mr' 'Miss' 'Mr' 'Mr' 'Mr' 'Mrs'\n 'Mrs' 'Mr' 'Mr' 'Miss' 'Mr' 'Mr' 'Mr' 'Mrs' 'Miss' 'Mrs' 'Mr' 'Mr' 'Mr'\n 'Mr' 'Miss' 'Mr' 'Rev' 'Rev' 'Mrs' 'Mr' 'Mr' 'Mr' 'Mr' 'Miss' 'Mr' 'Mr'\n 'Master' 'Mr' 'Mrs' 'Mr' 'Mr' 'Master' 'Master' 'Mrs' 'Mrs' 'Mr' 'Mr'\n 'Mr' 'Master' 'Miss' 'Mr' 'Mr' 'Mr' 'Master' 'Miss' 'Mr' 'Mr' 'Miss' 'Mr'\n 'Master' 'Master' 'Miss' 'Mr' 'Mrs' 'Mr' 'Mr' 'Mr' 'Mrs' 'Mr' 'Miss'\n 'Master' 'Mrs' 'Miss' 'Mr' 'Mr' 'Miss' 'Miss' 'Mr' 'Mr' 'Mr' 'Mr' 'Mr'\n 'Miss' 'Mr' 'Mr' 'Miss' 'Mr' 'Mr' 'Miss' 'Mr' 'Mr' 'Mr' 'Miss' 'Miss'\n 'Mr' 'Miss' 'Mr' 'Mr' 'Mr' 'Mr' 'Mr' 'Mr' 'Mr' 'Mr' 'Mr' 'Mr' 'Miss'\n 'Mrs' 'Mr' 'Mr' 'Miss' 'Mr' 'Miss' 'Mr' 'Miss' 'Mr' 'Mr' 'Miss' 'Miss'\n 'Mr' 'Mr' 'Mr' 'Dr' 'Miss' 'Mrs' 'Mr' 'Rev' 'Mr' 'Mrs' 'Mr' 'Mr' 'Mrs'\n 'Mrs' 'Mrs' 'Miss' 'Miss' 'Mrs' 'Mr' 'Master' 'Mr' 'Mr' 'Miss' 'Mr' 'Mr'\n 'Mr' 'Mrs' 'Miss' 'Mr' 'Mr' 'Mrs' 'Mr' 'Miss' 'Miss' 'Miss' 'Mr' 'Master'\n 'Mrs' 'Mr' 'Mr' 'Mr' 'Mr' 'Mr' 'Mr' 'Mr' 'Mr' 'Mr' 'Miss' 'Miss' 'Mrs'\n 'Mr' 'Miss' 'Mr' 'Mr' 'Mr' 'Miss' 'Mr' 'Mrs' 'Miss' 'Mr' 'Mr' 'Miss' 'Mr'\n 'Master' 'Miss' 'Mrs' 'Mr' 'Miss' 'Miss' 'Miss' 'Mrs' 'Mr' 'Mr' 'Miss'\n 'Mrs' 'Dr' 'Miss' 'Mrs' 'Mr' 'Mr' 'Miss' 'Mrs' 'Mr' 'Miss' 'Mr' 'Mrs'\n 'Mrs' 'Miss' 'Miss' 'Mr' 'Mr' 'Mr' 'Mrs' 'Mr' 'Mr' 'Miss' 'Mr' 'Mr'\n 'Master' 'Miss' 'Mr' 'Mr' 'Mr' 'Miss' 'Miss' 'Mrs' 'Master' 'Mr' 'Mr'\n 'Mr' 'Mr' 'Mr' 'Mr' 'Mr' 'Miss' 'Miss' 'Miss' 'Miss' 'Mr' 'Mr' 'Mrs' 'Mr'\n 'Mr' 'Mr' 'Mrs' 'Mrs' 'Miss' 'Mme' 'Mr' 'Mr' 'Mr' 'Mr' 'Miss' 'Mrs'\n 'Miss' 'Mr' 'Mr' 'Mr' 'Miss' 'Miss' 'Mr' 'Mrs' 'Mr' 'Mr' 'Master' 'Miss'\n 'Mr' 'Miss' 'Mr' 'Mr' 'Mr' 'Miss' 'Mrs' 'Mr' 'Miss' 'Mr' 'Dr' 'Mrs' 'Mr'\n 'Mr' 'Miss' 'Mr' 'Miss' 'Mr' 'Mr' 'Master' 'Mr' 'Miss' 'Mr' 'Mr' 'Miss'\n 'Mr' 'Mr' 'Mrs' 'Mrs' 'Miss' 'Mr' 'Miss' 'Mr' 'Mr' 'Mr' 'Mrs' 'Mr' 'Mr'\n 'Mrs' 'Miss' 'Mr' 'Mr' 'Mr' 'Mrs' 'Mrs' 'Mr' 'Mr' 'Miss' 'Miss' 'Mrs'\n 'Mr' 'Mr' 'Mrs' 'Mr' 'Mr' 'Ms' 'Mr' 'Master' 'Miss' 'Mr' 'Miss' 'Major'\n 'Mr' 'Mr' 'Mr' 'Mr' 'Mr' 'Mr' 'Mr' 'Mrs' 'Miss' 'Mr' 'Mr' 'Mr' 'Mr' 'Mr'\n 'Mr' 'Mr' 'Mr' 'Mr' 'Mr' 'Miss' 'Mr' 'Mr' 'Mrs' 'Mrs' 'Miss' 'Mr' 'Mr'\n 'Mr' 'Mr' 'Miss' 'Master' 'Mr' 'Mr' 'Mrs' 'Mr' 'Miss' 'Mrs' 'Mr' 'Mr'\n 'Master' 'Mr' 'Mr' 'Mr' 'Mr' 'Mr' 'Mr' 'Miss' 'Mr' 'Mrs' 'Mr' 'Mr' 'Miss'\n 'Miss' 'Miss' 'Miss' 'Mr' 'Mrs' 'Mr' 'Mr' 'Mr' 'Mr' 'Mr' 'Mr' 'Mrs' 'Mr'\n 'Mr' 'Mrs' 'Mr' 'Mrs' 'Mr' 'Miss' 'Mr' 'Mr' 'Mrs' 'Mr' 'Mr' 'Miss' 'Mr'\n 'Mr' 'Mr' 'Miss' 'Mr' 'Mr' 'Mrs' 'Miss' 'Miss' 'Major' 'Miss' 'Mr' 'Miss'\n 'Miss' 'Miss' 'Miss' 'Mr' 'Mr' 'Mr' 'Mrs' 'Mr' 'Mr' 'Master' 'Mr' 'Mr'\n 'Mr' 'Mr' 'Miss' 'Mr' 'Lady' 'Mr' 'Mrs' 'Mrs' 'Mr' 'Mr' 'Mr' 'Mr' 'Miss'\n 'Mr' 'Mr' 'Mrs' 'Mr' 'Mr' 'Mr' 'Mrs' 'Mr' 'Miss' 'Mr' 'Mr' 'Miss' 'Mrs'\n 'Mrs' 'Mr' 'Miss' 'Mrs' 'Mr' 'Mr' 'Mr' 'Miss' 'Mr' 'Mr' 'Mr' 'Mr' 'Mr'\n 'Mrs' 'Mr' 'Miss' 'Mr' 'Mr' 'Miss' 'Mr' 'Mr' 'Sir' 'Mrs' 'Mr' 'Mr' 'Mr'\n 'Mr' 'Mr' 'Mr' 'Mr' 'Mrs' 'Miss' 'Mrs' 'Mr' 'Miss' 'Mr' 'Mr' 'Miss' 'Mr'\n 'Mrs' 'Miss' 'Mr' 'Mr' 'Mr' 'Mr' 'Mr' 'Mr' 'Mr' 'Rev' 'Miss' 'Mr' 'Mr'\n 'Mr' 'Mr' 'Dr' 'Mr' 'Miss' 'Miss' 'Mr' 'Mr' 'Mrs' 'Mr' 'Mr' 'Mlle' 'Miss'\n 'Mr' 'Miss' 'Mr' 'Mr' 'Col' 'Mr' 'Miss' 'Mr' 'Miss' 'Mr' 'Miss' 'Miss'\n 'Mr' 'Mr' 'Mrs' 'Mr' 'Mr' 'Dr' 'Mr' 'Mr' 'Mr' 'Mr' 'Mr' 'Mr' 'Mr' 'Mr'\n 'Mrs' 'Mrs' 'Mr' 'Mr' 'Mr' 'Mr' 'Mr' 'Mr' 'Miss' 'Mrs' 'Mr' 'Miss' 'Mr'\n 'Mr' 'Mr' 'Mr' 'Mr' 'Mr' 'Mr' 'Mr' 'Miss' 'Mr' 'Miss' 'Mr' 'Mr' 'Col'\n 'Mr' 'Mr' 'Miss' 'Mr' 'Mr' 'Mrs' 'Mr' 'Miss' 'Mr' 'Mr' 'Mr' 'Mrs' 'Mr'\n 'Miss' 'Master' 'Mlle' 'Mr' 'Mr' 'Mr' 'Mr' 'Mr' 'Miss' 'Miss' 'Mr' 'Mr'\n 'Miss' 'Mr' 'Mr' 'Mr' 'Mr' 'Mr' 'Mrs' 'Miss' 'Mr' 'Miss' 'Miss' 'Mr' 'Mr'\n 'Mr' 'Mr' 'Mr' 'Mrs' 'Mr' 'Mr' 'Mr' 'Mr' 'Mr' 'Miss' 'Mr' 'Mr' 'Capt'\n 'Mr' 'Miss' 'Mr' 'Mr' 'Miss' 'Master' 'Mr' 'Mr' 'Mrs' 'Master' 'Mr' 'Mr'\n 'Mr' 'the Countess' 'Mr' 'Mr' 'Mr' 'Mrs' 'Mr' 'Mrs' 'Dr' 'Miss' 'Mr' 'Mr'\n 'Mr' 'Mr' 'Mrs' 'Mr' 'Mrs' 'Mr' 'Mr' 'Miss' 'Mr' 'Mrs' 'Miss' 'Mrs' 'Mr'\n 'Mr' 'Mr' 'Mr' 'Miss' 'Master' 'Master' 'Mr' 'Mr' 'Mr' 'Miss' 'Mr' 'Mr'\n 'Mr' 'Dr' 'Mrs' 'Mr' 'Mrs' 'Mr' 'Mrs' 'Master' 'Master' 'Mr' 'Mr' 'Mr'\n 'Miss' 'Mr' 'Mrs' 'Mr' 'Mr' 'Mr' 'Miss' 'Mr' 'Mr' 'Miss' 'Mr' 'Mr'\n 'Master' 'Mrs' 'Mr' 'Jonkheer' 'Mrs' 'Master' 'Mr' 'Mr' 'Master' 'Mr'\n 'Mrs' 'Mrs' 'Master' 'Mr' 'Mr' 'Mr' 'Miss' 'Mr' 'Mr' 'Mr' 'Mr' 'Mr' 'Mr'\n 'Miss' 'Mr' 'Mr' 'Mr' 'Mr' 'Mr' 'Rev' 'Mrs' 'Master' 'Mr' 'Miss' 'Miss'\n 'Mrs' 'Mrs' 'Mrs' 'Mr' 'Mrs' 'Mr' 'Mr' 'Mr' 'Mrs' 'Miss' 'Mr' 'Mrs'\n 'Miss' 'Mr' 'Mr' 'Master' 'Mr' 'Mrs' 'Mr' 'Mr' 'Mrs' 'Miss' 'Mr' 'Mr'\n 'Mr' 'Mrs' 'Mrs' 'Mr' 'Miss' 'Mr' 'Mr' 'Mrs' 'Rev' 'Miss' 'Miss' 'Mr'\n 'Mr'].\nReshape your data either using array.reshape(-1, 1) if your data has a single feature or array.reshape(1, -1) if it contains a single sample.",
     "output_type": "error",
     "traceback": [
      "\u001b[0;31m---------------------------------------------------------------------------\u001b[0m",
      "\u001b[0;31mValueError\u001b[0m                                Traceback (most recent call last)",
      "\u001b[0;32m<ipython-input-493-5f2638ad51be>\u001b[0m in \u001b[0;36m<module>\u001b[0;34m\u001b[0m\n\u001b[1;32m      9\u001b[0m \u001b[0;34m\u001b[0m\u001b[0m\n\u001b[1;32m     10\u001b[0m \u001b[0mtransformer\u001b[0m \u001b[0;34m=\u001b[0m \u001b[0mTransformer\u001b[0m\u001b[0;34m(\u001b[0m\u001b[0;34m)\u001b[0m\u001b[0;34m\u001b[0m\u001b[0;34m\u001b[0m\u001b[0m\n\u001b[0;32m---> 11\u001b[0;31m \u001b[0mX\u001b[0m \u001b[0;34m=\u001b[0m \u001b[0mtransformer\u001b[0m\u001b[0;34m.\u001b[0m\u001b[0mfit_transform\u001b[0m\u001b[0;34m(\u001b[0m\u001b[0mX\u001b[0m\u001b[0;34m)\u001b[0m\u001b[0;34m\u001b[0m\u001b[0;34m\u001b[0m\u001b[0m\n\u001b[0m\u001b[1;32m     12\u001b[0m \u001b[0;31m# X_train = transformer.fit_transform(X_train)\u001b[0m\u001b[0;34m\u001b[0m\u001b[0;34m\u001b[0m\u001b[0;34m\u001b[0m\u001b[0m\n\u001b[1;32m     13\u001b[0m \u001b[0;31m# X_val = transformer.transform(X_val)\u001b[0m\u001b[0;34m\u001b[0m\u001b[0;34m\u001b[0m\u001b[0;34m\u001b[0m\u001b[0m\n",
      "\u001b[0;32m<ipython-input-490-1eae1c8a2233>\u001b[0m in \u001b[0;36mfit_transform\u001b[0;34m(self, X_train)\u001b[0m\n\u001b[1;32m     17\u001b[0m         \u001b[0mX_train\u001b[0m \u001b[0;34m=\u001b[0m \u001b[0mX_train\u001b[0m\u001b[0;34m.\u001b[0m\u001b[0mName\u001b[0m\u001b[0;34m.\u001b[0m\u001b[0mapply\u001b[0m\u001b[0;34m(\u001b[0m\u001b[0;32mlambda\u001b[0m \u001b[0mname\u001b[0m\u001b[0;34m:\u001b[0m \u001b[0mname\u001b[0m\u001b[0;34m.\u001b[0m\u001b[0msplit\u001b[0m\u001b[0;34m(\u001b[0m\u001b[0;34m','\u001b[0m\u001b[0;34m)\u001b[0m\u001b[0;34m[\u001b[0m\u001b[0;36m1\u001b[0m\u001b[0;34m]\u001b[0m\u001b[0;34m.\u001b[0m\u001b[0msplit\u001b[0m\u001b[0;34m(\u001b[0m\u001b[0;34m'.'\u001b[0m\u001b[0;34m)\u001b[0m\u001b[0;34m[\u001b[0m\u001b[0;36m0\u001b[0m\u001b[0;34m]\u001b[0m\u001b[0;34m.\u001b[0m\u001b[0mstrip\u001b[0m\u001b[0;34m(\u001b[0m\u001b[0;34m)\u001b[0m\u001b[0;34m)\u001b[0m\u001b[0;34m\u001b[0m\u001b[0;34m\u001b[0m\u001b[0m\n\u001b[1;32m     18\u001b[0m \u001b[0;31m#         X_train = X_train.drop('Name', axis=1)\u001b[0m\u001b[0;34m\u001b[0m\u001b[0;34m\u001b[0m\u001b[0;34m\u001b[0m\u001b[0m\n\u001b[0;32m---> 19\u001b[0;31m         \u001b[0mmissing\u001b[0m \u001b[0;34m=\u001b[0m \u001b[0mmissing_indicator\u001b[0m\u001b[0;34m.\u001b[0m\u001b[0mfit_transform\u001b[0m\u001b[0;34m(\u001b[0m\u001b[0mX_train\u001b[0m\u001b[0;34m)\u001b[0m\u001b[0;34m\u001b[0m\u001b[0;34m\u001b[0m\u001b[0m\n\u001b[0m\u001b[1;32m     20\u001b[0m         \u001b[0mself\u001b[0m\u001b[0;34m.\u001b[0m\u001b[0mdetect_features\u001b[0m\u001b[0;34m(\u001b[0m\u001b[0mX_train\u001b[0m\u001b[0;34m)\u001b[0m\u001b[0;34m\u001b[0m\u001b[0;34m\u001b[0m\u001b[0m\n\u001b[1;32m     21\u001b[0m         \u001b[0mX_train\u001b[0m\u001b[0;34m[\u001b[0m\u001b[0mself\u001b[0m\u001b[0;34m.\u001b[0m\u001b[0mnum_features\u001b[0m\u001b[0;34m]\u001b[0m \u001b[0;34m=\u001b[0m \u001b[0mself\u001b[0m\u001b[0;34m.\u001b[0m\u001b[0mimputer\u001b[0m\u001b[0;34m.\u001b[0m\u001b[0mfit_transform\u001b[0m\u001b[0;34m(\u001b[0m\u001b[0mX_train\u001b[0m\u001b[0;34m[\u001b[0m\u001b[0mself\u001b[0m\u001b[0;34m.\u001b[0m\u001b[0mnum_features\u001b[0m\u001b[0;34m]\u001b[0m\u001b[0;34m)\u001b[0m\u001b[0;34m.\u001b[0m\u001b[0mcopy\u001b[0m\u001b[0;34m(\u001b[0m\u001b[0;34m)\u001b[0m\u001b[0;34m\u001b[0m\u001b[0;34m\u001b[0m\u001b[0m\n",
      "\u001b[0;32m~/opt/anaconda3/lib/python3.7/site-packages/sklearn/impute/_base.py\u001b[0m in \u001b[0;36mfit_transform\u001b[0;34m(self, X, y)\u001b[0m\n\u001b[1;32m    669\u001b[0m \u001b[0;34m\u001b[0m\u001b[0m\n\u001b[1;32m    670\u001b[0m         \"\"\"\n\u001b[0;32m--> 671\u001b[0;31m         \u001b[0;32mreturn\u001b[0m \u001b[0mself\u001b[0m\u001b[0;34m.\u001b[0m\u001b[0mfit\u001b[0m\u001b[0;34m(\u001b[0m\u001b[0mX\u001b[0m\u001b[0;34m,\u001b[0m \u001b[0my\u001b[0m\u001b[0;34m)\u001b[0m\u001b[0;34m.\u001b[0m\u001b[0mtransform\u001b[0m\u001b[0;34m(\u001b[0m\u001b[0mX\u001b[0m\u001b[0;34m)\u001b[0m\u001b[0;34m\u001b[0m\u001b[0;34m\u001b[0m\u001b[0m\n\u001b[0m\u001b[1;32m    672\u001b[0m \u001b[0;34m\u001b[0m\u001b[0m\n\u001b[1;32m    673\u001b[0m     \u001b[0;32mdef\u001b[0m \u001b[0m_more_tags\u001b[0m\u001b[0;34m(\u001b[0m\u001b[0mself\u001b[0m\u001b[0;34m)\u001b[0m\u001b[0;34m:\u001b[0m\u001b[0;34m\u001b[0m\u001b[0;34m\u001b[0m\u001b[0m\n",
      "\u001b[0;32m~/opt/anaconda3/lib/python3.7/site-packages/sklearn/impute/_base.py\u001b[0m in \u001b[0;36mfit\u001b[0;34m(self, X, y)\u001b[0m\n\u001b[1;32m    602\u001b[0m             \u001b[0mReturns\u001b[0m \u001b[0mself\u001b[0m\u001b[0;34m.\u001b[0m\u001b[0;34m\u001b[0m\u001b[0;34m\u001b[0m\u001b[0m\n\u001b[1;32m    603\u001b[0m         \"\"\"\n\u001b[0;32m--> 604\u001b[0;31m         \u001b[0mX\u001b[0m \u001b[0;34m=\u001b[0m \u001b[0mself\u001b[0m\u001b[0;34m.\u001b[0m\u001b[0m_validate_input\u001b[0m\u001b[0;34m(\u001b[0m\u001b[0mX\u001b[0m\u001b[0;34m)\u001b[0m\u001b[0;34m\u001b[0m\u001b[0;34m\u001b[0m\u001b[0m\n\u001b[0m\u001b[1;32m    605\u001b[0m         \u001b[0mself\u001b[0m\u001b[0;34m.\u001b[0m\u001b[0m_n_features\u001b[0m \u001b[0;34m=\u001b[0m \u001b[0mX\u001b[0m\u001b[0;34m.\u001b[0m\u001b[0mshape\u001b[0m\u001b[0;34m[\u001b[0m\u001b[0;36m1\u001b[0m\u001b[0;34m]\u001b[0m\u001b[0;34m\u001b[0m\u001b[0;34m\u001b[0m\u001b[0m\n\u001b[1;32m    606\u001b[0m \u001b[0;34m\u001b[0m\u001b[0m\n",
      "\u001b[0;32m~/opt/anaconda3/lib/python3.7/site-packages/sklearn/impute/_base.py\u001b[0m in \u001b[0;36m_validate_input\u001b[0;34m(self, X)\u001b[0m\n\u001b[1;32m    569\u001b[0m             \u001b[0mforce_all_finite\u001b[0m \u001b[0;34m=\u001b[0m \u001b[0;34m\"allow-nan\"\u001b[0m\u001b[0;34m\u001b[0m\u001b[0;34m\u001b[0m\u001b[0m\n\u001b[1;32m    570\u001b[0m         X = check_array(X, accept_sparse=('csc', 'csr'), dtype=None,\n\u001b[0;32m--> 571\u001b[0;31m                         force_all_finite=force_all_finite)\n\u001b[0m\u001b[1;32m    572\u001b[0m         \u001b[0m_check_inputs_dtype\u001b[0m\u001b[0;34m(\u001b[0m\u001b[0mX\u001b[0m\u001b[0;34m,\u001b[0m \u001b[0mself\u001b[0m\u001b[0;34m.\u001b[0m\u001b[0mmissing_values\u001b[0m\u001b[0;34m)\u001b[0m\u001b[0;34m\u001b[0m\u001b[0;34m\u001b[0m\u001b[0m\n\u001b[1;32m    573\u001b[0m         \u001b[0;32mif\u001b[0m \u001b[0mX\u001b[0m\u001b[0;34m.\u001b[0m\u001b[0mdtype\u001b[0m\u001b[0;34m.\u001b[0m\u001b[0mkind\u001b[0m \u001b[0;32mnot\u001b[0m \u001b[0;32min\u001b[0m \u001b[0;34m(\u001b[0m\u001b[0;34m\"i\"\u001b[0m\u001b[0;34m,\u001b[0m \u001b[0;34m\"u\"\u001b[0m\u001b[0;34m,\u001b[0m \u001b[0;34m\"f\"\u001b[0m\u001b[0;34m,\u001b[0m \u001b[0;34m\"O\"\u001b[0m\u001b[0;34m)\u001b[0m\u001b[0;34m:\u001b[0m\u001b[0;34m\u001b[0m\u001b[0;34m\u001b[0m\u001b[0m\n",
      "\u001b[0;32m~/opt/anaconda3/lib/python3.7/site-packages/sklearn/utils/validation.py\u001b[0m in \u001b[0;36mcheck_array\u001b[0;34m(array, accept_sparse, accept_large_sparse, dtype, order, copy, force_all_finite, ensure_2d, allow_nd, ensure_min_samples, ensure_min_features, warn_on_dtype, estimator)\u001b[0m\n\u001b[1;32m    519\u001b[0m                     \u001b[0;34m\"Reshape your data either using array.reshape(-1, 1) if \"\u001b[0m\u001b[0;34m\u001b[0m\u001b[0;34m\u001b[0m\u001b[0m\n\u001b[1;32m    520\u001b[0m                     \u001b[0;34m\"your data has a single feature or array.reshape(1, -1) \"\u001b[0m\u001b[0;34m\u001b[0m\u001b[0;34m\u001b[0m\u001b[0m\n\u001b[0;32m--> 521\u001b[0;31m                     \"if it contains a single sample.\".format(array))\n\u001b[0m\u001b[1;32m    522\u001b[0m \u001b[0;34m\u001b[0m\u001b[0m\n\u001b[1;32m    523\u001b[0m         \u001b[0;31m# in the future np.flexible dtypes will be handled like object dtypes\u001b[0m\u001b[0;34m\u001b[0m\u001b[0;34m\u001b[0m\u001b[0;34m\u001b[0m\u001b[0m\n",
      "\u001b[0;31mValueError\u001b[0m: Expected 2D array, got 1D array instead:\narray=['Mr' 'Mrs' 'Miss' 'Mrs' 'Mr' 'Mr' 'Mr' 'Master' 'Mrs' 'Mrs' 'Miss' 'Miss'\n 'Mr' 'Mr' 'Miss' 'Mrs' 'Master' 'Mr' 'Mrs' 'Mrs' 'Mr' 'Mr' 'Miss' 'Mr'\n 'Miss' 'Mrs' 'Mr' 'Mr' 'Miss' 'Mr' 'Don' 'Mrs' 'Miss' 'Mr' 'Mr' 'Mr' 'Mr'\n 'Mr' 'Miss' 'Miss' 'Mrs' 'Mrs' 'Mr' 'Miss' 'Miss' 'Mr' 'Mr' 'Miss' 'Mr'\n 'Mrs' 'Master' 'Mr' 'Mrs' 'Mrs' 'Mr' 'Mr' 'Miss' 'Mr' 'Miss' 'Master'\n 'Mr' 'Miss' 'Mr' 'Master' 'Mr' 'Master' 'Mrs' 'Mr' 'Miss' 'Mr' 'Mr'\n 'Miss' 'Mr' 'Mr' 'Mr' 'Mr' 'Mr' 'Mr' 'Master' 'Miss' 'Mr' 'Mr' 'Miss'\n 'Mr' 'Miss' 'Mrs' 'Mr' 'Mr' 'Miss' 'Mr' 'Mr' 'Mr' 'Mr' 'Mr' 'Mr' 'Mr'\n 'Mr' 'Mr' 'Mrs' 'Mr' 'Miss' 'Mr' 'Mr' 'Mr' 'Mr' 'Mr' 'Miss' 'Mr' 'Mr'\n 'Miss' 'Mr' 'Miss' 'Mr' 'Miss' 'Miss' 'Mr' 'Mr' 'Mr' 'Mr' 'Miss' 'Mr'\n 'Mr' 'Mr' 'Miss' 'Mr' 'Master' 'Mr' 'Mr' 'Miss' 'Mr' 'Mr' 'Mr' 'Mrs'\n 'Mrs' 'Mr' 'Mr' 'Miss' 'Mr' 'Mr' 'Mr' 'Mrs' 'Miss' 'Mrs' 'Mr' 'Mr' 'Mr'\n 'Mr' 'Miss' 'Mr' 'Rev' 'Rev' 'Mrs' 'Mr' 'Mr' 'Mr' 'Mr' 'Miss' 'Mr' 'Mr'\n 'Master' 'Mr' 'Mrs' 'Mr' 'Mr' 'Master' 'Master' 'Mrs' 'Mrs' 'Mr' 'Mr'\n 'Mr' 'Master' 'Miss' 'Mr' 'Mr' 'Mr' 'Master' 'Miss' 'Mr' 'Mr' 'Miss' 'Mr'\n 'Master' 'Master' 'Miss' 'Mr' 'Mrs' 'Mr' 'Mr' 'Mr' 'Mrs' 'Mr' 'Miss'\n 'Master' 'Mrs' 'Miss' 'Mr' 'Mr' 'Miss' 'Miss' 'Mr' 'Mr' 'Mr' 'Mr' 'Mr'\n 'Miss' 'Mr' 'Mr' 'Miss' 'Mr' 'Mr' 'Miss' 'Mr' 'Mr' 'Mr' 'Miss' 'Miss'\n 'Mr' 'Miss' 'Mr' 'Mr' 'Mr' 'Mr' 'Mr' 'Mr' 'Mr' 'Mr' 'Mr' 'Mr' 'Miss'\n 'Mrs' 'Mr' 'Mr' 'Miss' 'Mr' 'Miss' 'Mr' 'Miss' 'Mr' 'Mr' 'Miss' 'Miss'\n 'Mr' 'Mr' 'Mr' 'Dr' 'Miss' 'Mrs' 'Mr' 'Rev' 'Mr' 'Mrs' 'Mr' 'Mr' 'Mrs'\n 'Mrs' 'Mrs' 'Miss' 'Miss' 'Mrs' 'Mr' 'Master' 'Mr' 'Mr' 'Miss' 'Mr' 'Mr'\n 'Mr' 'Mrs' 'Miss' 'Mr' 'Mr' 'Mrs' 'Mr' 'Miss' 'Miss' 'Miss' 'Mr' 'Master'\n 'Mrs' 'Mr' 'Mr' 'Mr' 'Mr' 'Mr' 'Mr' 'Mr' 'Mr' 'Mr' 'Miss' 'Miss' 'Mrs'\n 'Mr' 'Miss' 'Mr' 'Mr' 'Mr' 'Miss' 'Mr' 'Mrs' 'Miss' 'Mr' 'Mr' 'Miss' 'Mr'\n 'Master' 'Miss' 'Mrs' 'Mr' 'Miss' 'Miss' 'Miss' 'Mrs' 'Mr' 'Mr' 'Miss'\n 'Mrs' 'Dr' 'Miss' 'Mrs' 'Mr' 'Mr' 'Miss' 'Mrs' 'Mr' 'Miss' 'Mr' 'Mrs'\n 'Mrs' 'Miss' 'Miss' 'Mr' 'Mr' 'Mr' 'Mrs' 'Mr' 'Mr' 'Miss' 'Mr' 'Mr'\n 'Master' 'Miss' 'Mr' 'Mr' 'Mr' 'Miss' 'Miss' 'Mrs' 'Master' 'Mr' 'Mr'\n 'Mr' 'Mr' 'Mr' 'Mr' 'Mr' 'Miss' 'Miss' 'Miss' 'Miss' 'Mr' 'Mr' 'Mrs' 'Mr'\n 'Mr' 'Mr' 'Mrs' 'Mrs' 'Miss' 'Mme' 'Mr' 'Mr' 'Mr' 'Mr' 'Miss' 'Mrs'\n 'Miss' 'Mr' 'Mr' 'Mr' 'Miss' 'Miss' 'Mr' 'Mrs' 'Mr' 'Mr' 'Master' 'Miss'\n 'Mr' 'Miss' 'Mr' 'Mr' 'Mr' 'Miss' 'Mrs' 'Mr' 'Miss' 'Mr' 'Dr' 'Mrs' 'Mr'\n 'Mr' 'Miss' 'Mr' 'Miss' 'Mr' 'Mr' 'Master' 'Mr' 'Miss' 'Mr' 'Mr' 'Miss'\n 'Mr' 'Mr' 'Mrs' 'Mrs' 'Miss' 'Mr' 'Miss' 'Mr' 'Mr' 'Mr' 'Mrs' 'Mr' 'Mr'\n 'Mrs' 'Miss' 'Mr' 'Mr' 'Mr' 'Mrs' 'Mrs' 'Mr' 'Mr' 'Miss' 'Miss' 'Mrs'\n 'Mr' 'Mr' 'Mrs' 'Mr' 'Mr' 'Ms' 'Mr' 'Master' 'Miss' 'Mr' 'Miss' 'Major'\n 'Mr' 'Mr' 'Mr' 'Mr' 'Mr' 'Mr' 'Mr' 'Mrs' 'Miss' 'Mr' 'Mr' 'Mr' 'Mr' 'Mr'\n 'Mr' 'Mr' 'Mr' 'Mr' 'Mr' 'Miss' 'Mr' 'Mr' 'Mrs' 'Mrs' 'Miss' 'Mr' 'Mr'\n 'Mr' 'Mr' 'Miss' 'Master' 'Mr' 'Mr' 'Mrs' 'Mr' 'Miss' 'Mrs' 'Mr' 'Mr'\n 'Master' 'Mr' 'Mr' 'Mr' 'Mr' 'Mr' 'Mr' 'Miss' 'Mr' 'Mrs' 'Mr' 'Mr' 'Miss'\n 'Miss' 'Miss' 'Miss' 'Mr' 'Mrs' 'Mr' 'Mr' 'Mr' 'Mr' 'Mr' 'Mr' 'Mrs' 'Mr'\n 'Mr' 'Mrs' 'Mr' 'Mrs' 'Mr' 'Miss' 'Mr' 'Mr' 'Mrs' 'Mr' 'Mr' 'Miss' 'Mr'\n 'Mr' 'Mr' 'Miss' 'Mr' 'Mr' 'Mrs' 'Miss' 'Miss' 'Major' 'Miss' 'Mr' 'Miss'\n 'Miss' 'Miss' 'Miss' 'Mr' 'Mr' 'Mr' 'Mrs' 'Mr' 'Mr' 'Master' 'Mr' 'Mr'\n 'Mr' 'Mr' 'Miss' 'Mr' 'Lady' 'Mr' 'Mrs' 'Mrs' 'Mr' 'Mr' 'Mr' 'Mr' 'Miss'\n 'Mr' 'Mr' 'Mrs' 'Mr' 'Mr' 'Mr' 'Mrs' 'Mr' 'Miss' 'Mr' 'Mr' 'Miss' 'Mrs'\n 'Mrs' 'Mr' 'Miss' 'Mrs' 'Mr' 'Mr' 'Mr' 'Miss' 'Mr' 'Mr' 'Mr' 'Mr' 'Mr'\n 'Mrs' 'Mr' 'Miss' 'Mr' 'Mr' 'Miss' 'Mr' 'Mr' 'Sir' 'Mrs' 'Mr' 'Mr' 'Mr'\n 'Mr' 'Mr' 'Mr' 'Mr' 'Mrs' 'Miss' 'Mrs' 'Mr' 'Miss' 'Mr' 'Mr' 'Miss' 'Mr'\n 'Mrs' 'Miss' 'Mr' 'Mr' 'Mr' 'Mr' 'Mr' 'Mr' 'Mr' 'Rev' 'Miss' 'Mr' 'Mr'\n 'Mr' 'Mr' 'Dr' 'Mr' 'Miss' 'Miss' 'Mr' 'Mr' 'Mrs' 'Mr' 'Mr' 'Mlle' 'Miss'\n 'Mr' 'Miss' 'Mr' 'Mr' 'Col' 'Mr' 'Miss' 'Mr' 'Miss' 'Mr' 'Miss' 'Miss'\n 'Mr' 'Mr' 'Mrs' 'Mr' 'Mr' 'Dr' 'Mr' 'Mr' 'Mr' 'Mr' 'Mr' 'Mr' 'Mr' 'Mr'\n 'Mrs' 'Mrs' 'Mr' 'Mr' 'Mr' 'Mr' 'Mr' 'Mr' 'Miss' 'Mrs' 'Mr' 'Miss' 'Mr'\n 'Mr' 'Mr' 'Mr' 'Mr' 'Mr' 'Mr' 'Mr' 'Miss' 'Mr' 'Miss' 'Mr' 'Mr' 'Col'\n 'Mr' 'Mr' 'Miss' 'Mr' 'Mr' 'Mrs' 'Mr' 'Miss' 'Mr' 'Mr' 'Mr' 'Mrs' 'Mr'\n 'Miss' 'Master' 'Mlle' 'Mr' 'Mr' 'Mr' 'Mr' 'Mr' 'Miss' 'Miss' 'Mr' 'Mr'\n 'Miss' 'Mr' 'Mr' 'Mr' 'Mr' 'Mr' 'Mrs' 'Miss' 'Mr' 'Miss' 'Miss' 'Mr' 'Mr'\n 'Mr' 'Mr' 'Mr' 'Mrs' 'Mr' 'Mr' 'Mr' 'Mr' 'Mr' 'Miss' 'Mr' 'Mr' 'Capt'\n 'Mr' 'Miss' 'Mr' 'Mr' 'Miss' 'Master' 'Mr' 'Mr' 'Mrs' 'Master' 'Mr' 'Mr'\n 'Mr' 'the Countess' 'Mr' 'Mr' 'Mr' 'Mrs' 'Mr' 'Mrs' 'Dr' 'Miss' 'Mr' 'Mr'\n 'Mr' 'Mr' 'Mrs' 'Mr' 'Mrs' 'Mr' 'Mr' 'Miss' 'Mr' 'Mrs' 'Miss' 'Mrs' 'Mr'\n 'Mr' 'Mr' 'Mr' 'Miss' 'Master' 'Master' 'Mr' 'Mr' 'Mr' 'Miss' 'Mr' 'Mr'\n 'Mr' 'Dr' 'Mrs' 'Mr' 'Mrs' 'Mr' 'Mrs' 'Master' 'Master' 'Mr' 'Mr' 'Mr'\n 'Miss' 'Mr' 'Mrs' 'Mr' 'Mr' 'Mr' 'Miss' 'Mr' 'Mr' 'Miss' 'Mr' 'Mr'\n 'Master' 'Mrs' 'Mr' 'Jonkheer' 'Mrs' 'Master' 'Mr' 'Mr' 'Master' 'Mr'\n 'Mrs' 'Mrs' 'Master' 'Mr' 'Mr' 'Mr' 'Miss' 'Mr' 'Mr' 'Mr' 'Mr' 'Mr' 'Mr'\n 'Miss' 'Mr' 'Mr' 'Mr' 'Mr' 'Mr' 'Rev' 'Mrs' 'Master' 'Mr' 'Miss' 'Miss'\n 'Mrs' 'Mrs' 'Mrs' 'Mr' 'Mrs' 'Mr' 'Mr' 'Mr' 'Mrs' 'Miss' 'Mr' 'Mrs'\n 'Miss' 'Mr' 'Mr' 'Master' 'Mr' 'Mrs' 'Mr' 'Mr' 'Mrs' 'Miss' 'Mr' 'Mr'\n 'Mr' 'Mrs' 'Mrs' 'Mr' 'Miss' 'Mr' 'Mr' 'Mrs' 'Rev' 'Miss' 'Miss' 'Mr'\n 'Mr'].\nReshape your data either using array.reshape(-1, 1) if your data has a single feature or array.reshape(1, -1) if it contains a single sample."
     ]
    }
   ],
   "source": [
    "y = train['Survived']\n",
    "X = train.drop('Survived', axis=1)\n",
    "X = X.set_index('PassengerId')\n",
    "X_test = test.set_index('PassengerId')\n",
    "\n",
    "from sklearn.model_selection import train_test_split\n",
    "\n",
    "X_train, X_val, y_train, y_val = train_test_split(X, y)\n",
    "\n",
    "transformer = Transformer()\n",
    "X = transformer.fit_transform(X)\n",
    "# X_train = transformer.fit_transform(X_train)\n",
    "# X_val = transformer.transform(X_val)\n",
    "X_test = transformer.transform(X_test)"
   ]
  },
  {
   "cell_type": "code",
   "execution_count": 409,
   "metadata": {},
   "outputs": [],
   "source": [
    "rf = RandomForestClassifier()"
   ]
  },
  {
   "cell_type": "code",
   "execution_count": 410,
   "metadata": {},
   "outputs": [
    {
     "name": "stderr",
     "output_type": "stream",
     "text": [
      "/Users/abdul/opt/anaconda3/lib/python3.7/site-packages/sklearn/ensemble/forest.py:245: FutureWarning: The default value of n_estimators will change from 10 in version 0.20 to 100 in 0.22.\n",
      "  \"10 in version 0.20 to 100 in 0.22.\", FutureWarning)\n"
     ]
    },
    {
     "data": {
      "text/plain": [
       "RandomForestClassifier(bootstrap=True, class_weight=None, criterion='gini',\n",
       "                       max_depth=None, max_features='auto', max_leaf_nodes=None,\n",
       "                       min_impurity_decrease=0.0, min_impurity_split=None,\n",
       "                       min_samples_leaf=1, min_samples_split=2,\n",
       "                       min_weight_fraction_leaf=0.0, n_estimators=10,\n",
       "                       n_jobs=None, oob_score=False, random_state=None,\n",
       "                       verbose=0, warm_start=False)"
      ]
     },
     "execution_count": 410,
     "metadata": {},
     "output_type": "execute_result"
    }
   ],
   "source": [
    "rf.fit(X, y)"
   ]
  },
  {
   "cell_type": "code",
   "execution_count": 430,
   "metadata": {},
   "outputs": [],
   "source": [
    "from xgboost import XGBClassifier"
   ]
  },
  {
   "cell_type": "code",
   "execution_count": 431,
   "metadata": {},
   "outputs": [],
   "source": [
    "xgb = XGBClassifier()"
   ]
  },
  {
   "cell_type": "code",
   "execution_count": 432,
   "metadata": {},
   "outputs": [
    {
     "name": "stderr",
     "output_type": "stream",
     "text": [
      "/Users/abdul/opt/anaconda3/lib/python3.7/site-packages/sklearn/model_selection/_split.py:1978: FutureWarning: The default value of cv will change from 3 to 5 in version 0.22. Specify it explicitly to silence this warning.\n",
      "  warnings.warn(CV_WARNING, FutureWarning)\n"
     ]
    },
    {
     "data": {
      "text/plain": [
       "array([0.79461279, 0.81818182, 0.82491582])"
      ]
     },
     "execution_count": 432,
     "metadata": {},
     "output_type": "execute_result"
    }
   ],
   "source": [
    "cross_val_score(xgb, X, y)"
   ]
  },
  {
   "cell_type": "code",
   "execution_count": 433,
   "metadata": {},
   "outputs": [
    {
     "data": {
      "text/plain": [
       "XGBClassifier(base_score=0.5, booster='gbtree', colsample_bylevel=1,\n",
       "              colsample_bynode=1, colsample_bytree=1, gamma=0,\n",
       "              learning_rate=0.1, max_delta_step=0, max_depth=3,\n",
       "              min_child_weight=1, missing=None, n_estimators=100, n_jobs=1,\n",
       "              nthread=None, objective='binary:logistic', random_state=0,\n",
       "              reg_alpha=0, reg_lambda=1, scale_pos_weight=1, seed=None,\n",
       "              silent=None, subsample=1, verbosity=1)"
      ]
     },
     "execution_count": 433,
     "metadata": {},
     "output_type": "execute_result"
    }
   ],
   "source": [
    "xgb.fit(X, y)"
   ]
  },
  {
   "cell_type": "code",
   "execution_count": null,
   "metadata": {},
   "outputs": [],
   "source": []
  },
  {
   "cell_type": "code",
   "execution_count": 434,
   "metadata": {},
   "outputs": [],
   "source": [
    "gender_submission['Survived'] = xgb.predict(X_test)"
   ]
  },
  {
   "cell_type": "code",
   "execution_count": 435,
   "metadata": {},
   "outputs": [],
   "source": [
    "gender_submission.to_csv('submission.csv', index=False)"
   ]
  },
  {
   "cell_type": "code",
   "execution_count": 436,
   "metadata": {},
   "outputs": [
    {
     "name": "stdout",
     "output_type": "stream",
     "text": [
      "Warning: Your Kaggle API key is readable by other users on this system! To fix this, you can run 'chmod 600 /Users/abdul/.kaggle/kaggle.json'\n",
      "100%|████████████████████████████████████████| 2.77k/2.77k [00:08<00:00, 351B/s]\n",
      "Successfully submitted to Titanic: Machine Learning from Disaster"
     ]
    }
   ],
   "source": [
    "!kaggle competitions submit -c titanic -f submission.csv -m \"Message\""
   ]
  },
  {
   "cell_type": "code",
   "execution_count": null,
   "metadata": {},
   "outputs": [],
   "source": []
  }
 ],
 "metadata": {
  "kernelspec": {
   "display_name": "Python 3",
   "language": "python",
   "name": "python3"
  },
  "language_info": {
   "codemirror_mode": {
    "name": "ipython",
    "version": 3
   },
   "file_extension": ".py",
   "mimetype": "text/x-python",
   "name": "python",
   "nbconvert_exporter": "python",
   "pygments_lexer": "ipython3",
   "version": "3.7.4"
  }
 },
 "nbformat": 4,
 "nbformat_minor": 2
}
